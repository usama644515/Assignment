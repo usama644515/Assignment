{
 "cells": [
  {
   "cell_type": "code",
   "execution_count": 1,
   "id": "3f32c927",
   "metadata": {},
   "outputs": [
    {
     "name": "stdout",
     "output_type": "stream",
     "text": [
      "Enter Your Percentage\n",
      "70\n",
      "Your Grade is A\n",
      "\n"
     ]
    }
   ],
   "source": [
    "num=int(input(\"Enter Your Percentage\\n\"))\n",
    "# num=79\n",
    "if (num<=100 and num>=80):\n",
    "    print(\"Your Grade is A+\\n\")\n",
    "elif (num<80 and num>=70):\n",
    "    print(\"Your Grade is A\\n\")\n",
    "elif (num<70 and num>=60):\n",
    "    print(\"Your Grade is B\\n\")\n",
    "elif (num<60 and num>=50):\n",
    "    print(\"Your Grade is C\\n\")\n",
    "elif (num<50 and num>=33):\n",
    "    print(\"Your Grade is D\\n\")\n",
    "elif (num<33 and num>=0):\n",
    "    print(\"You Fail\\n\")\n",
    "else:\n",
    "    print(\"Please Enter Valid Percentage\\n\")"
   ]
  },
  {
   "cell_type": "code",
   "execution_count": null,
   "id": "f9ff8691",
   "metadata": {},
   "outputs": [],
   "source": []
  },
  {
   "cell_type": "code",
   "execution_count": null,
   "id": "76d66103",
   "metadata": {},
   "outputs": [],
   "source": []
  }
 ],
 "metadata": {
  "kernelspec": {
   "display_name": "Python 3",
   "language": "python",
   "name": "python3"
  },
  "language_info": {
   "codemirror_mode": {
    "name": "ipython",
    "version": 3
   },
   "file_extension": ".py",
   "mimetype": "text/x-python",
   "name": "python",
   "nbconvert_exporter": "python",
   "pygments_lexer": "ipython3",
   "version": "3.8.8"
  }
 },
 "nbformat": 4,
 "nbformat_minor": 5
}
